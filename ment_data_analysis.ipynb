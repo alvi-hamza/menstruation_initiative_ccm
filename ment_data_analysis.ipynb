{
 "cells": [
  {
   "cell_type": "markdown",
   "id": "3f75fc4c-7be9-4205-852e-dba50817a6c1",
   "metadata": {},
   "source": [
    "#### Hamza Alvi\n",
    "# Menstruation Student Suppport Analysis \n",
    "#### 12/9/2023"
   ]
  },
  {
   "cell_type": "code",
   "execution_count": 3,
   "id": "2802b9f7-92ee-406c-ac48-c240dc793019",
   "metadata": {},
   "outputs": [
    {
     "data": {
      "text/html": [
       "<div>\n",
       "<style scoped>\n",
       "    .dataframe tbody tr th:only-of-type {\n",
       "        vertical-align: middle;\n",
       "    }\n",
       "\n",
       "    .dataframe tbody tr th {\n",
       "        vertical-align: top;\n",
       "    }\n",
       "\n",
       "    .dataframe thead th {\n",
       "        text-align: right;\n",
       "    }\n",
       "</style>\n",
       "<table border=\"1\" class=\"dataframe\">\n",
       "  <thead>\n",
       "    <tr style=\"text-align: right;\">\n",
       "      <th></th>\n",
       "      <th>Gender</th>\n",
       "      <th>Age</th>\n",
       "      <th>attendance_status</th>\n",
       "      <th>menstruation_applicable</th>\n",
       "      <th>free_products_used</th>\n",
       "      <th>product_use_preference</th>\n",
       "      <th>product_usage_frequency</th>\n",
       "      <th>school_usage_reasoning</th>\n",
       "      <th>missed_class_impact</th>\n",
       "      <th>attendance_increase_impact</th>\n",
       "      <th>free_product_impact</th>\n",
       "      <th>support_scale</th>\n",
       "      <th>no_support_reason</th>\n",
       "    </tr>\n",
       "  </thead>\n",
       "  <tbody>\n",
       "    <tr>\n",
       "      <th>191</th>\n",
       "      <td>Male</td>\n",
       "      <td>45+</td>\n",
       "      <td>Full Time</td>\n",
       "      <td>No</td>\n",
       "      <td>NaN</td>\n",
       "      <td>NaN</td>\n",
       "      <td>NaN</td>\n",
       "      <td>NaN</td>\n",
       "      <td>NaN</td>\n",
       "      <td>NaN</td>\n",
       "      <td>NaN</td>\n",
       "      <td>Somwhat Supportive</td>\n",
       "      <td>Logistical challenges (School will not be able...</td>\n",
       "    </tr>\n",
       "    <tr>\n",
       "      <th>94</th>\n",
       "      <td>Female</td>\n",
       "      <td>18-24</td>\n",
       "      <td>Part Time</td>\n",
       "      <td>Yes</td>\n",
       "      <td>No</td>\n",
       "      <td>Only School Products if Necessary</td>\n",
       "      <td>Rarely</td>\n",
       "      <td>I didn’t have the product(s) that I needed</td>\n",
       "      <td>I know someone who has</td>\n",
       "      <td>To a Great Extent</td>\n",
       "      <td>Less worried about having my period;More able ...</td>\n",
       "      <td>Highly Supportive</td>\n",
       "      <td>NaN</td>\n",
       "    </tr>\n",
       "  </tbody>\n",
       "</table>\n",
       "</div>"
      ],
      "text/plain": [
       "     Gender    Age attendance_status menstruation_applicable  \\\n",
       "191    Male    45+         Full Time                      No   \n",
       "94   Female  18-24         Part Time                     Yes   \n",
       "\n",
       "    free_products_used             product_use_preference  \\\n",
       "191                NaN                                NaN   \n",
       "94                  No  Only School Products if Necessary   \n",
       "\n",
       "    product_usage_frequency                      school_usage_reasoning  \\\n",
       "191                     NaN                                         NaN   \n",
       "94                   Rarely  I didn’t have the product(s) that I needed   \n",
       "\n",
       "        missed_class_impact attendance_increase_impact  \\\n",
       "191                     NaN                        NaN   \n",
       "94   I know someone who has          To a Great Extent   \n",
       "\n",
       "                                   free_product_impact       support_scale  \\\n",
       "191                                                NaN  Somwhat Supportive   \n",
       "94   Less worried about having my period;More able ...   Highly Supportive   \n",
       "\n",
       "                                     no_support_reason  \n",
       "191  Logistical challenges (School will not be able...  \n",
       "94                                                 NaN  "
      ]
     },
     "execution_count": 3,
     "metadata": {},
     "output_type": "execute_result"
    }
   ],
   "source": [
    "## import data from csv file\n",
    "import pandas as pd\n",
    "import numpy as np\n",
    "import matplotlib.pyplot as plt\n",
    "import seaborn as sns\n",
    "\n",
    "# store to clean csv to final_menst\n",
    "file_path = r'C:\\Users\\Hamza\\OneDrive - student.ccm.edu\\Hamza_Courses\\3rd_semsester_ccm\\Data_science_programming\\menstration_analysis\\clean_menst.csv'\n",
    "final_menst = pd.read_csv(file_path)\n",
    "final_menst.sample(2)"
   ]
  },
  {
   "cell_type": "code",
   "execution_count": null,
   "id": "fbeb6c56-48e4-4ca1-b265-8bf07643fbf2",
   "metadata": {},
   "outputs": [],
   "source": []
  },
  {
   "cell_type": "code",
   "execution_count": 2,
   "id": "7e1cdbb9-039e-4c6a-a4ab-4003e74a1921",
   "metadata": {},
   "outputs": [
    {
     "data": {
      "text/plain": [
       "Index(['Gender', 'Age', 'attendance_status', 'menstruation_applicable',\n",
       "       'free_products_used', 'product_use_preference',\n",
       "       'product_usage_frequency', 'school_usage_reasoning',\n",
       "       'missed_class_impact', 'attendance_increase_impact',\n",
       "       'free_product_impact', 'support_scale', 'no_support_reason'],\n",
       "      dtype='object')"
      ]
     },
     "execution_count": 2,
     "metadata": {},
     "output_type": "execute_result"
    }
   ],
   "source": [
    "final_menst.columns"
   ]
  },
  {
   "cell_type": "code",
   "execution_count": null,
   "id": "f9c57329-9c19-4050-b78c-49ed56632f55",
   "metadata": {},
   "outputs": [],
   "source": []
  },
  {
   "cell_type": "markdown",
   "id": "fd752b8f-a972-4928-9f1d-b718890597a5",
   "metadata": {},
   "source": [
    "# Demographics of the Survey Participants"
   ]
  },
  {
   "cell_type": "markdown",
   "id": "71a67e0f-e342-4458-9a1c-0d31eaaf1537",
   "metadata": {},
   "source": [
    "## Age Distribution of Survey"
   ]
  },
  {
   "cell_type": "code",
   "execution_count": 3,
   "id": "30588ea7-561b-47f7-a93a-f11d0b3711b8",
   "metadata": {},
   "outputs": [
    {
     "data": {
      "image/png": "[encoded data removed]",
      "text/plain": [
       "<Figure size 800x800 with 1 Axes>"
      ]
     },
     "metadata": {},
     "output_type": "display_data"
    }
   ],
   "source": [
    "#some code drawn from https://www.geeksforgeeks.org/donut-chart-using-matplotlib-in-python/ and in class yelp-fusuin assignment\n",
    "\n",
    "# Get the gender distribution\n",
    "gender_distribution = final_menst['Gender'].value_counts()\n",
    "\n",
    "# Define colors for Non-Binary, Male, and Female\n",
    "colors = ['darkorange', 'lightskyblue', 'salmon']\n",
    "\n",
    "# Define labels\n",
    "labels = gender_distribution.index\n",
    "\n",
    "# Define sizes (counts)\n",
    "sizes = gender_distribution.values\n",
    "\n",
    "# Define explosion (distance of slices from the center)\n",
    "explode = (0.05, 0.05, 0.05)\n",
    "\n",
    "# Create a donut pie chart (code from other source)\n",
    "fig, ax = plt.subplots(figsize=(8, 8))\n",
    "wedges, texts, autotexts = ax.pie(sizes, colors=colors, labels=labels,\n",
    "                                  autopct='%1.1f%%', pctdistance=0.85,\n",
    "                                  explode=explode, textprops=dict(weight='bold'))\n",
    "\n",
    "# Draw a white circle in the center to create a donut effect\n",
    "centre_circle = plt.Circle((0, 0), 0.70, fc='white')\n",
    "fig = plt.gcf()\n",
    "fig.gca().add_artist(centre_circle)\n",
    "\n",
    "# Adding Title of chart\n",
    "plt.title('Gender Distribution')\n",
    "\n",
    "# Add Legends\n",
    "plt.legend(labels, loc=\"upper right\")\n",
    "\n",
    "# Add labels on the side with adjusted position\n",
    "ax.legend(wedges, labels, title=\"Gender\", loc=\"center left\", bbox_to_anchor=(1.2, 0.5))\n",
    "\n",
    "# Displaying Chart\n",
    "plt.show()\n"
   ]
  },
  {
   "cell_type": "code",
   "execution_count": 4,
   "id": "7a43231b-2bd7-4788-844a-c69f738bf4b0",
   "metadata": {},
   "outputs": [
    {
     "data": {
      "text/plain": [
       "Gender\n",
       "Female        126\n",
       "Male           77\n",
       "Non-Binary      9\n",
       "Name: count, dtype: int64"
      ]
     },
     "execution_count": 4,
     "metadata": {},
     "output_type": "execute_result"
    }
   ],
   "source": [
    "gender_distribution"
   ]
  },
  {
   "cell_type": "markdown",
   "id": "3cbcafdc-84f6-4a54-b2fa-097590ad7f05",
   "metadata": {},
   "source": [
    "## Age Distribution of Survey"
   ]
  },
  {
   "cell_type": "code",
   "execution_count": 5,
   "id": "ac66533e-a92a-4b00-bcba-75165248bc35",
   "metadata": {},
   "outputs": [
    {
     "data": {
      "text/plain": [
       "array(['18-24', '25-34', '15-17', '45+', '35-44'], dtype=object)"
      ]
     },
     "execution_count": 5,
     "metadata": {},
     "output_type": "execute_result"
    }
   ],
   "source": [
    "final_menst['Age'].unique()"
   ]
  },
  {
   "cell_type": "code",
   "execution_count": null,
   "id": "29d9e4ef-80f9-4a19-ad9d-2bc6f488b4c0",
   "metadata": {},
   "outputs": [],
   "source": []
  },
  {
   "cell_type": "code",
   "execution_count": 6,
   "id": "140115f4-e9c6-408f-bf8a-d87ea92fae72",
   "metadata": {},
   "outputs": [
    {
     "ename": "NameError",
     "evalue": "name 'age_counts' is not defined",
     "output_type": "error",
     "traceback": [
      "\u001b[1;31m---------------------------------------------------------------------------\u001b[0m",
      "\u001b[1;31mNameError\u001b[0m                                 Traceback (most recent call last)",
      "Cell \u001b[1;32mIn[6], line 1\u001b[0m\n\u001b[1;32m----> 1\u001b[0m \u001b[43mage_counts\u001b[49m\n",
      "\u001b[1;31mNameError\u001b[0m: name 'age_counts' is not defined"
     ]
    }
   ],
   "source": [
    "age_counts"
   ]
  },
  {
   "cell_type": "code",
   "execution_count": null,
   "id": "7947dd93-fa81-496f-be75-fc99b7327390",
   "metadata": {},
   "outputs": [],
   "source": [
    "#percentage on top of bar is from https://www.geeksforgeeks.org/display-percentage-above-bar-chart-in-matplotlib/\n",
    "# Counts\n",
    "age_counts =final_menst['Age'].value_counts()\n",
    "\n",
    "# Percentgae\n",
    "age_percentages = (age_counts / age_counts.sum()) * 100\n",
    "\n",
    "# Descending Order\n",
    "age_percentages = age_percentages.sort_values(ascending=False)\n",
    "\n",
    "# Plot\n",
    "plt.bar(age_percentages.index, age_percentages)\n",
    "plt.xlabel('Age Group')\n",
    "plt.ylabel('Percentage')\n",
    "plt.title('Age Distribution')\n",
    "plt.show()"
   ]
  },
  {
   "cell_type": "code",
   "execution_count": null,
   "id": "1d7397f2-8d32-49ec-9063-38b5151a747c",
   "metadata": {},
   "outputs": [],
   "source": [
    "age_percentages"
   ]
  },
  {
   "cell_type": "markdown",
   "id": "3417dd62-1acb-456e-98c6-894cb65beae7",
   "metadata": {
    "jp-MarkdownHeadingCollapsed": true
   },
   "source": [
    "## Attendance Status"
   ]
  },
  {
   "cell_type": "code",
   "execution_count": null,
   "id": "3a5671bc-01f7-4ee4-9ed8-1b639b321484",
   "metadata": {},
   "outputs": [],
   "source": []
  },
  {
   "cell_type": "code",
   "execution_count": null,
   "id": "7ef2c34b-a68c-4e16-97ec-89589b55d205",
   "metadata": {},
   "outputs": [],
   "source": [
    "#some code drawn from https://www.geeksforgeeks.org/donut-chart-using-matplotlib-in-python/\n",
    "\n",
    "# Get the gender distribution\n",
    "attendance_status = final_menst['attendance_status'].value_counts()\n",
    "\n",
    "# Define colors for attendance status\n",
    "colors = ['lightskyblue', 'salmon']\n",
    "\n",
    "# Define labels\n",
    "labels = attendance_status.index\n",
    "\n",
    "# Define sizes (counts)\n",
    "sizes = attendance_status.values\n",
    "\n",
    "# Define explosion (distance of slices from the center)\n",
    "explode = tuple([0.05] * len(labels))\n",
    "\n",
    "# Create a donut pie chart\n",
    "fig, ax = plt.subplots(figsize=(8, 8))\n",
    "wedges, texts, autotexts = ax.pie(sizes, colors=colors, labels=labels,\n",
    "                                  autopct='%1.1f%%', pctdistance=0.85,\n",
    "                                  explode=explode, textprops=dict(weight='bold'))\n",
    "\n",
    "# Draw a white circle in the center to create a donut effect\n",
    "centre_circle = plt.Circle((0, 0), 0.70, fc='white')\n",
    "fig = plt.gcf()\n",
    "fig.gca().add_artist(centre_circle)\n",
    "\n",
    "# Adding Title of chart\n",
    "plt.title('Attendance Status')\n",
    "\n",
    "# Add Legends\n",
    "plt.legend(labels, loc=\"upper right\")\n",
    "\n",
    "# Add labels on the side with adjusted position\n",
    "ax.legend(wedges, labels, title=\"Status\", loc=\"center left\", bbox_to_anchor=(1.2, 0.5))\n",
    "\n",
    "# Displaying Chart\n",
    "plt.show()\n"
   ]
  },
  {
   "cell_type": "markdown",
   "id": "dc13d269-8863-4aa9-98ee-4f586b4dbf87",
   "metadata": {},
   "source": [
    "## Menstration Application\n"
   ]
  },
  {
   "cell_type": "code",
   "execution_count": null,
   "id": "fa0ccf24-a665-49b8-bbe5-0b307c745dae",
   "metadata": {},
   "outputs": [],
   "source": [
    "#some code drawn from https://www.geeksforgeeks.org/donut-chart-using-matplotlib-in-python/\n",
    "\n",
    "# Get the menstruation_applicable\n",
    "menstruation_applicable = final_menst['menstruation_applicable'].value_counts()\n",
    "\n",
    "# Define colors for menstruation_applicable\n",
    "colors = ['lightskyblue', 'salmon']\n",
    "\n",
    "# Define labels\n",
    "labels = menstruation_applicable.index\n",
    "\n",
    "# Define sizes (counts)\n",
    "sizes = menstruation_applicable.values\n",
    "\n",
    "# Define explosion (distance of slices from the center)\n",
    "explode = tuple([0.05] * len(labels))\n",
    "\n",
    "# Create a donut pie chart\n",
    "fig, ax = plt.subplots(figsize=(8, 8))\n",
    "wedges, texts, autotexts = ax.pie(sizes, colors=colors, labels=labels,\n",
    "                                  autopct='%1.1f%%', pctdistance=0.85,\n",
    "                                  explode=explode, textprops=dict(weight='bold'))\n",
    "\n",
    "# Draw a white circle in the center to create a donut effect\n",
    "centre_circle = plt.Circle((0, 0), 0.70, fc='white')\n",
    "fig = plt.gcf()\n",
    "fig.gca().add_artist(centre_circle)\n",
    "\n",
    "# Adding Title of chart\n",
    "plt.title('Menstration Applicability')\n",
    "\n",
    "# Add Legends\n",
    "plt.legend(labels, loc=\"upper right\")\n",
    "\n",
    "# Add labels on the side with adjusted position\n",
    "ax.legend(wedges, labels, title=\" \", loc=\"center left\", bbox_to_anchor=(1.2, 0.5))\n",
    "\n",
    "# Displaying Chart\n",
    "plt.show()\n"
   ]
  },
  {
   "cell_type": "code",
   "execution_count": null,
   "id": "b8896dd1-2038-47f2-a8d7-be38c31912a6",
   "metadata": {},
   "outputs": [],
   "source": [
    "# Get the menstruation_applicable distribution\n",
    "menstruation_applicable_counts = final_menst['menstruation_applicable'].value_counts()\n",
    "\n",
    "# Create a DataFrame from the value counts\n",
    "menstruation_applicable_df = pd.DataFrame({'Counts': menstruation_applicable_counts})\n",
    "\n",
    "menstruation_applicable_df"
   ]
  },
  {
   "cell_type": "markdown",
   "id": "86c05c17-5dd1-410b-ad34-4f3ca124246c",
   "metadata": {},
   "source": [
    "## Demographic Statisitcs Summary/Commentary"
   ]
  },
  {
   "cell_type": "raw",
   "id": "ca3bf8b8-8e8b-44ad-ab54-f1b3ce205a80",
   "metadata": {},
   "source": [
    "The survey consisted of 213 students of whom 59.4% female, 36.3% male and 4.2% non-binary students. Although the male students did not make\n",
    "make half of the particiapnts it did have reasonable amount of particiapnts. The survey particiapnts were predominatly 18-24 years old making 77.35% of the dataset. Majority of the particiapants were full time students abount 70.8%. On 65.6% of the participants menstruation was applicable. This just does not include female students but could include students who identify as male, or non binary. The survey data although not fully but colosely alligns with the CCM's statistics from National Education Center for Statistics which reveals the demographics to be 24 and under (78%). 44 % full time and 47% female."
   ]
  },
  {
   "cell_type": "markdown",
   "id": "17f906ef-a6bf-4592-8335-484865b0b2e1",
   "metadata": {
    "jp-MarkdownHeadingCollapsed": true
   },
   "source": [
    "# Menstruation Product Impact"
   ]
  },
  {
   "cell_type": "code",
   "execution_count": null,
   "id": "25fbbd6c-f836-429f-9ae9-73eb076db3dc",
   "metadata": {},
   "outputs": [],
   "source": [
    "menstruation_yes = final_menst[final_menst['menstruation_applicable'] == 'Yes']\n",
    "menstruation_yes['menstruation_applicable'].unique() #good\n"
   ]
  },
  {
   "cell_type": "code",
   "execution_count": null,
   "id": "e1e11dc1-7c86-4dcc-90c4-c903472765e1",
   "metadata": {},
   "outputs": [],
   "source": [
    "menstruation_yes.sample(2)"
   ]
  },
  {
   "cell_type": "markdown",
   "id": "bb8796b8-ab7c-4c68-8498-8982b31e369e",
   "metadata": {
    "jp-MarkdownHeadingCollapsed": true
   },
   "source": [
    "## Missed Class Impact"
   ]
  },
  {
   "cell_type": "code",
   "execution_count": null,
   "id": "0b1aabc9-7145-4b50-88aa-75c84e3c525f",
   "metadata": {},
   "outputs": [],
   "source": [
    "menstruation_yes['missed_class_impact'].unique()"
   ]
  },
  {
   "cell_type": "code",
   "execution_count": null,
   "id": "fa11d885-ad00-4552-b17c-76363a22951f",
   "metadata": {},
   "outputs": [],
   "source": [
    "menstruation_yes['Age'].unique()"
   ]
  },
  {
   "cell_type": "code",
   "execution_count": null,
   "id": "6660f8b0-8005-490c-92d9-4f83c3fff241",
   "metadata": {},
   "outputs": [],
   "source": [
    "menstruation_yes['missed_class_impact'].replace({'I know someone who has': 'Yes/Know Someone', 'Yes':'Yes/Know Someone'}, inplace=True)\n",
    "print(menstruation_yes['missed_class_impact'].unique())\n"
   ]
  },
  {
   "cell_type": "code",
   "execution_count": null,
   "id": "3697bbb6-33d4-4195-9c63-943d52fbc0bb",
   "metadata": {},
   "outputs": [],
   "source": []
  },
  {
   "cell_type": "code",
   "execution_count": null,
   "id": "1484e06b-6bab-425c-b95c-6a0bbff2aa51",
   "metadata": {
    "scrolled": true
   },
   "outputs": [],
   "source": [
    "#percentage on top of bar is from https://www.geeksforgeeks.org/display-percentage-above-bar-chart-in-matplotlib/ \n",
    "\n",
    "# Calculate the percentage within each gender for each support scale (ai aid)\n",
    "percentage = menstruation_yes.groupby(['attendance_status', 'missed_class_impact']).size() / menstruation_yes.groupby('attendance_status').size() * 100\n",
    "percentage = percentage.reset_index(name='Percentage')\n",
    "percentage\n",
    "\n",
    "\n"
   ]
  },
  {
   "cell_type": "code",
   "execution_count": null,
   "id": "e6be91ad-9c9b-4f31-82f2-4e9d5432fe4d",
   "metadata": {},
   "outputs": [],
   "source": [
    "# Get the missed class\n",
    "missed_class= menstruation_yes['missed_class_impact'].value_counts()\n",
    "\n",
    "# Define colors\n",
    "colors = ['salmon','lightskyblue', 'orange']\n",
    "\n",
    "# Define labels\n",
    "labels = missed_class.index\n",
    "\n",
    "# Define sizes (counts)\n",
    "sizes = missed_class.values\n",
    "\n",
    "# Define explosion (distance of slices from the center)\n",
    "explode = tuple([0.05] * len(labels))\n",
    "\n",
    "# create a donut pie chart\n",
    "fig, ax = plt.subplots(figsize=(8, 8))\n",
    "wedges, texts, autotexts = ax.pie(sizes, colors=colors, labels=labels,\n",
    "                                  autopct='%1.1f%%', pctdistance=0.85,\n",
    "                                  explode=explode, textprops=dict(weight='bold'))\n",
    "\n",
    "# Draw a white circle in the center to create a donut effect\n",
    "centre_circle = plt.Circle((0, 0), 0.70, fc='white')\n",
    "fig = plt.gcf()\n",
    "fig.gca().add_artist(centre_circle)\n",
    "\n",
    "# title\n",
    "plt.title('Missed Class due to Menstration')\n",
    "\n",
    "#legend\n",
    "plt.legend(labels, loc=\"upper right\")\n",
    "\n",
    "#label positon\n",
    "ax.legend(wedges, labels, title=\"Missed Class\", loc=\"center left\", bbox_to_anchor=(1.2, 0.5))\n",
    "\n",
    "# display\n",
    "plt.show()\n"
   ]
  },
  {
   "cell_type": "code",
   "execution_count": null,
   "id": "fa1405a4-62b6-420b-a530-309994da60ec",
   "metadata": {},
   "outputs": [],
   "source": [
    "\n",
    "#percentage on top of bar is from https://www.geeksforgeeks.org/display-percentage-above-bar-chart-in-matplotlib/\n",
    "\n",
    "# Set the style of seaborn\n",
    "sns.set(style=\"whitegrid\")\n",
    "\n",
    "# Create a bar chart\n",
    "plt.figure(figsize=(10, 6))\n",
    "graph = sns.barplot(x='attendance_status', y='Percentage', hue='missed_class_impact', data=percentage)\n",
    "\n",
    "# Add title and labels\n",
    "plt.title('Missed Class by Attendance Status')\n",
    "plt.xlabel('Attendance Status')\n",
    "plt.ylabel('Percentage')\n",
    "\n",
    "\n",
    "\n",
    "\n",
    "plt.show()\n",
    "\n"
   ]
  },
  {
   "cell_type": "markdown",
   "id": "e8306d59-bec9-4736-b407-c09eec271d38",
   "metadata": {
    "jp-MarkdownHeadingCollapsed": true
   },
   "source": [
    "## Attendance Impact"
   ]
  },
  {
   "cell_type": "code",
   "execution_count": null,
   "id": "e517a2b0-8c0d-496b-84c2-0cb2be68c512",
   "metadata": {},
   "outputs": [],
   "source": [
    "# Define colors\n",
    "colors = ['lightskyblue', 'deepskyblue', 'salmon', 'tomato']\n",
    "\n",
    "# Get the attendance\n",
    "attendance = menstruation_yes['attendance_increase_impact'].value_counts()\n",
    "\n",
    "# Define labels\n",
    "labels = attendance.index\n",
    "\n",
    "# Define sizes (counts)\n",
    "sizes = attendance.values\n",
    "\n",
    "# Define explosion (distance of slices from the center)\n",
    "explode = (0.05, 0.05, 0.025, 0.025)\n",
    "\n",
    "\n",
    "# Create a donut pie chart\n",
    "fig, ax = plt.subplots(figsize=(8, 8))\n",
    "wedges, texts, autotexts = ax.pie(sizes, colors=colors, labels=labels,\n",
    "                                  autopct='%1.1f%%', pctdistance=0.85,\n",
    "                                  explode=explode, textprops=dict(weight='bold'))\n",
    "\n",
    "# Draw a white circle in the center to create a donut effect\n",
    "centre_circle = plt.Circle((0, 0), 0.70, fc='white')\n",
    "fig = plt.gcf()\n",
    "fig.gca().add_artist(centre_circle)\n",
    "\n",
    "# Adding Title of chart\n",
    "plt.title('Comfortability in Attendance')\n",
    "\n",
    "# Add Legends\n",
    "plt.legend(labels, loc=\"upper right\")\n",
    "\n",
    "# Add labels on the side with adjusted position\n",
    "ax.legend(wedges, labels, title=\"Effect on Attendance\", loc=\"center left\", bbox_to_anchor=(1.2, 0.5))\n",
    "\n",
    "# Displaying Chart\n",
    "plt.show()"
   ]
  },
  {
   "cell_type": "markdown",
   "id": "61773d80-8204-4aab-88dc-a8232b86809c",
   "metadata": {},
   "source": [
    "## How would this have a Positive Impact"
   ]
  },
  {
   "cell_type": "code",
   "execution_count": null,
   "id": "201192a7-04da-42e6-93f5-b2d72805131c",
   "metadata": {},
   "outputs": [],
   "source": [
    "menstruation_yes['free_product_impact'].unique()\n"
   ]
  },
  {
   "cell_type": "code",
   "execution_count": null,
   "id": "dcbe3066-9f72-4f5d-88cb-c0e3558da452",
   "metadata": {},
   "outputs": [],
   "source": [
    "#seperate the elements in free_product_impact by ;\n",
    "impact_columns = menstruation_yes['free_product_impact'].str.split(';', expand=True)\n",
    "\n",
    "# Rename the columns to impact_1, impact_2, and so on (AI aid)\n",
    "impact_columns.columns = [f'impact_{i+1}' for i in range(impact_columns.shape[1])]"
   ]
  },
  {
   "cell_type": "code",
   "execution_count": null,
   "id": "9108d8c1-9b7b-488b-99b7-46287d07fee0",
   "metadata": {},
   "outputs": [],
   "source": [
    "impact_columns "
   ]
  },
  {
   "cell_type": "code",
   "execution_count": null,
   "id": "1c6664a7-2598-4de3-bb79-7ac3e6df3de4",
   "metadata": {},
   "outputs": [],
   "source": [
    "impact_columns['impact_1'].value_counts()\n",
    "impact_columns['impact_2'].value_counts()\n",
    "impact_columns['impact_3'].value_counts()\n",
    "impact_columns['impact_4'].value_counts()\n",
    "impact_columns['impact_5'].value_counts()\n",
    "impact_columns['impact_6'].value_counts()\n"
   ]
  },
  {
   "cell_type": "code",
   "execution_count": null,
   "id": "6222a070-20df-4cbd-bd97-665fc8207c45",
   "metadata": {},
   "outputs": [],
   "source": [
    "# Concatenate all columns with value counts\n",
    "all_impacts = pd.concat([\n",
    "    impact_columns['impact_1'],\n",
    "    impact_columns['impact_2'],\n",
    "    impact_columns['impact_3'],\n",
    "    impact_columns['impact_4'],\n",
    "    impact_columns['impact_5'],\n",
    "    impact_columns['impact_6']\n",
    "])\n",
    "\n",
    "# counts for each element\n",
    "combined_counts = all_impacts.value_counts()\n",
    "combined_counts\n",
    "\n",
    "#Got it!"
   ]
  },
  {
   "cell_type": "code",
   "execution_count": null,
   "id": "66f212c6-b66f-473c-8bda-5c7648b9852f",
   "metadata": {},
   "outputs": [],
   "source": [
    "names = {\n",
    "    'Less worried about having my period': 'Worry Less',\n",
    "    'More able to continue with day to day activities during my period': 'Continue Activities',\n",
    "    'Improved my mental health and wellbeing': 'Improved Mental Health',\n",
    "    'Introduced me to other services that the school/college/university provide': 'Introduce to Services',\n",
    "    'Other positive impact(s)': 'Other Positive Impacts',\n",
    "    'Increased my attendance at school/college/university during my period': 'Increase Attendance'\n",
    "}\n",
    "\n",
    "# change\n",
    "combined = combined_counts.rename(index=names)\n",
    "\n",
    "combined\n",
    "# Sort the combined counts in descending order\n",
    "combined2 = combined.sort_values(ascending=False)\n",
    "\n",
    "# Calculate percentages\n",
    "percentages_ = (combined2 / combined2.sum()) * 100\n",
    "impact_percentage = pd.DataFrame({'Impact': percentages_.index, 'Percentage': percentages_.values})\n",
    "impact_percentage"
   ]
  },
  {
   "cell_type": "code",
   "execution_count": null,
   "id": "30f422f4-b648-4249-8f7a-7b7916c86ccf",
   "metadata": {},
   "outputs": [],
   "source": [
    "# Round percentages to integers\n",
    "impact_percentage['Percentage'] = impact_percentage['Percentage'].round(0).astype(int)\n",
    "\n",
    "# Create the horizontal bar graph\n",
    "plt.figure(figsize=(10, 6))\n",
    "sns.barplot(x='Percentage', y='Impact', data=impact_percentage, color='deepskyblue')\n",
    "plt.xlabel('Percentage')\n",
    "plt.title('Positive Impacts')\n",
    "plt.show()"
   ]
  },
  {
   "cell_type": "markdown",
   "id": "5ed7ace3-e85b-40e0-b5cb-3eb17c0bf5c8",
   "metadata": {},
   "source": [
    "## Menstruation Product Impact Analysis"
   ]
  },
  {
   "cell_type": "raw",
   "id": "fd28b0af-41fa-4c70-bfb2-b400897cd9d3",
   "metadata": {},
   "source": [
    "The survey reveals that about 45% of the students 139 students on whom menstruation is applicable either have missed class or know someone who has and of those stuednts when broken down to full time and part time. It can be seen about half of full time students have missed class or know someone who has (63 students of the 139 students). Of the students 57.6% of the students feel that free menstruation products will greatly increase their comfort to attend school and 36.7% of the students feel that free products will increase comfortability in attendance somewhat. Making this initiative a great contributor to their comfortability in school. Half of the students see free products helping them continue their daily activities more comfortably\n",
    "and decrease mental burden of carrying products on hand-(25%- worry less and 25% continue activities)."
   ]
  },
  {
   "cell_type": "markdown",
   "id": "c7c800a8-ebd3-48f0-b8fa-30346ba270ff",
   "metadata": {
    "jp-MarkdownHeadingCollapsed": true
   },
   "source": [
    "# Overall Support and No Support Reasons"
   ]
  },
  {
   "cell_type": "markdown",
   "id": "77acc9bb-0006-4a54-b7b7-783f32b85166",
   "metadata": {},
   "source": [
    "## Overall Support"
   ]
  },
  {
   "cell_type": "code",
   "execution_count": null,
   "id": "6174c9b5-8ca0-469a-b591-6da53c552552",
   "metadata": {},
   "outputs": [],
   "source": [
    "final_menst['support_scale'].unique()"
   ]
  },
  {
   "cell_type": "code",
   "execution_count": null,
   "id": "4c0abafa-941a-4ffb-9040-36bb1e943a5f",
   "metadata": {},
   "outputs": [],
   "source": [
    "# Define colors\n",
    "colors = ['lightskyblue', 'salmon', 'orange']\n",
    "\n",
    "# Get the support scale counts\n",
    "support = final_menst['support_scale'].value_counts()\n",
    "\n",
    "# Define labels\n",
    "labels = support.index\n",
    "\n",
    "# Define sizes (counts)\n",
    "sizes = support.values\n",
    "\n",
    "# Define explosion (distance of slices from the center)\n",
    "explode = tuple([0.05] * len(labels))\n",
    "\n",
    "# Create a donut pie chart\n",
    "fig, ax = plt.subplots(figsize=(8, 8))\n",
    "\n",
    "wedges, texts, autotexts = ax.pie(sizes, colors=colors, labels=labels,\n",
    "                                  autopct='%1.1f%%', pctdistance=0.85,\n",
    "                                  explode=explode, textprops=dict(weight='bold'))\n",
    "\n",
    "# Draw a white circle in the center to create a donut effect\n",
    "centre_circle = plt.Circle((0, 0), 0.70, fc='white')\n",
    "fig = plt.gcf()\n",
    "fig.gca().add_artist(centre_circle)\n",
    "\n",
    "# Adding Title of chart\n",
    "plt.title('Overall Support')\n",
    "\n",
    "# Add Legends\n",
    "plt.legend(labels, loc=\"upper left\")\n",
    "\n",
    "# Add labels on the side with adjusted position\n",
    "ax.legend(wedges, labels, title=\"Support scale\", loc=\"center left\", bbox_to_anchor=(1.2, 0.5))\n",
    "\n",
    "# Displaying Chart\n",
    "plt.show()"
   ]
  },
  {
   "cell_type": "markdown",
   "id": "1d8a2e5e-a30d-46bb-bd2b-dcaf658618c7",
   "metadata": {},
   "source": [
    "## Support by Gender"
   ]
  },
  {
   "cell_type": "code",
   "execution_count": null,
   "id": "4b34adce-3ec9-46c9-b313-c928cf4aace8",
   "metadata": {},
   "outputs": [],
   "source": [
    "# Calculate the percentage within each gender for each support scale\n",
    "percentage = final_menst.groupby(['Gender', 'support_scale']).size() / final_menst.groupby('Gender').size() * 100\n",
    "percentage = percentage.reset_index(name='Percentage')\n",
    "percentage\n",
    "percentage['Percentage'] = percentage['Percentage'].astype(int)\n"
   ]
  },
  {
   "cell_type": "code",
   "execution_count": null,
   "id": "da3da84c-7257-4eab-90d5-2152cc490539",
   "metadata": {},
   "outputs": [],
   "source": [
    "#percentage on top of bar is from https://www.geeksforgeeks.org/display-percentage-above-bar-chart-in-matplotlib/\n",
    "\n",
    "# Set the style of seaborn\n",
    "sns.set(style=\"whitegrid\")\n",
    "\n",
    "# Create a bar chart\n",
    "plt.figure(figsize=(10, 6))\n",
    "graph = sns.barplot(x='Gender', y='Percentage', hue='support_scale', data=percentage)\n",
    "\n",
    "# Add title and labels\n",
    "plt.title('Support by Gender')\n",
    "plt.xlabel('Gender')\n",
    "plt.ylabel('Percentage')\n",
    "\n",
    "plt.show()"
   ]
  },
  {
   "cell_type": "code",
   "execution_count": null,
   "id": "aaf197e5-0a56-4e9c-b72d-5c334206def6",
   "metadata": {},
   "outputs": [],
   "source": [
    "highly_supportive_rows = percentage[percentage['support_scale'] == 'Highly Supportive']\n",
    "highly_supportive_rows\n"
   ]
  },
  {
   "cell_type": "markdown",
   "id": "46c83d35-43f2-47e1-8eb0-74ab8c1acf74",
   "metadata": {},
   "source": [
    "## Reasons of No Support"
   ]
  },
  {
   "cell_type": "code",
   "execution_count": null,
   "id": "3aac7647-b99d-4019-93a5-6f6b030d7d33",
   "metadata": {},
   "outputs": [],
   "source": [
    "final_menst['support_scale'].unique()\n"
   ]
  },
  {
   "cell_type": "code",
   "execution_count": null,
   "id": "d0ab0c77-3469-4e1f-b0c0-d687ed04e892",
   "metadata": {},
   "outputs": [],
   "source": [
    "final = pd.DataFrame(final_menst['support_scale'].value_counts())\n",
    "final"
   ]
  },
  {
   "cell_type": "code",
   "execution_count": null,
   "id": "f7cd2f02-5414-4b1d-bc6f-9591a92ae3af",
   "metadata": {},
   "outputs": [],
   "source": [
    "final_menst['no_support_reason'].unique()"
   ]
  },
  {
   "cell_type": "code",
   "execution_count": null,
   "id": "4bbb47c7-8752-4c4b-a5ce-af2e240cf215",
   "metadata": {},
   "outputs": [],
   "source": [
    "reason_no = final_menst[final_menst['support_scale'].isin(['Somwhat Supportive','Not Supportive at All'])]\n",
    "reason_no['support_scale'].unique()\n",
    "reason_no['no_support_reason'].unique()\n"
   ]
  },
  {
   "cell_type": "code",
   "execution_count": null,
   "id": "b8361b46-e9b5-4f03-840c-c087b1b0f100",
   "metadata": {},
   "outputs": [],
   "source": [
    "no_support=final_menst[final_menst['support_scale'].isin(['Somwhat Supportive','Not Supportive at All'])]"
   ]
  },
  {
   "cell_type": "code",
   "execution_count": null,
   "id": "23bccca1-8b3a-4eb2-8fac-f99c8cf7e5f7",
   "metadata": {},
   "outputs": [],
   "source": [
    "reason_no = reason_no[~reason_no['no_support_reason'].isin(['Not very aware of it'])]\n",
    "reason_no['no_support_reason'].unique()"
   ]
  },
  {
   "cell_type": "code",
   "execution_count": null,
   "id": "4228b128-b434-4d7e-8148-7ee10f15cf31",
   "metadata": {},
   "outputs": [],
   "source": [
    "reason_no = reason_no.dropna(subset=['no_support_reason'])\n",
    "reason_no['no_support_reason'].unique()"
   ]
  },
  {
   "cell_type": "code",
   "execution_count": null,
   "id": "e0fe246f-5561-4bc8-9d3e-d37450511db3",
   "metadata": {},
   "outputs": [],
   "source": [
    "reason_counts = reason_no['no_support_reason'].value_counts()\n",
    "reason_counts"
   ]
  },
  {
   "cell_type": "code",
   "execution_count": null,
   "id": "c1ef5052-eed1-4c41-bab2-1bd6bd5abc25",
   "metadata": {},
   "outputs": [],
   "source": [
    "#\n",
    "\n",
    "# colors\n",
    "colors = ['lightskyblue', 'salmon', 'orange']\n",
    "\n",
    "#chart\n",
    "plt.pie(reason_counts, labels=reason_counts.index, autopct='%1.1f%%', startangle=90, colors=colors)\n",
    "\n",
    "plt.axis('equal')\n",
    "\n",
    "#title\n",
    "plt.title('No Support Reasons')\n",
    "\n",
    "# Show the pie chart\n",
    "plt.show()"
   ]
  },
  {
   "cell_type": "markdown",
   "id": "2b8ad046-4483-4706-811a-a5fcd541a897",
   "metadata": {
    "jp-MarkdownHeadingCollapsed": true
   },
   "source": [
    "## Overall Support Statistics Analysis"
   ]
  },
  {
   "cell_type": "raw",
   "id": "d19aac9f-fea9-401f-a5fb-570b924bb084",
   "metadata": {},
   "source": [
    "Majority of the students within each Gender is either somewhat or highly supportive of this initiative. Overall 87% of the students support this initiative and 13% are either somewhat supportive or not at all.  95% of the female students, 74% of the male students and 88% of the non-binary students are Highly Supportive of this initiative showing a clear consensus on the free period product intiative across all genders. It is known some of the students do not support this initiative but why. One of the biggest challenge student see is the longevity of the initiative tying mostly into its maintaininece in the long run."
   ]
  },
  {
   "cell_type": "markdown",
   "id": "452ce469-3c3d-4e17-a627-f1a5f957c3ca",
   "metadata": {},
   "source": [
    "# School Product Use and Reason"
   ]
  },
  {
   "cell_type": "markdown",
   "id": "262e1771-7366-405b-90d0-09610a8506c9",
   "metadata": {
    "jp-MarkdownHeadingCollapsed": true
   },
   "source": [
    "## Product USE"
   ]
  },
  {
   "cell_type": "code",
   "execution_count": null,
   "id": "5e88efb3-0e36-4a2e-9f94-f5657cf6b93d",
   "metadata": {},
   "outputs": [],
   "source": [
    "menstruation_yes['product_use_preference'].unique()"
   ]
  },
  {
   "cell_type": "code",
   "execution_count": null,
   "id": "317fd45b-3ed3-474f-8646-49ba7a2d7192",
   "metadata": {},
   "outputs": [],
   "source": [
    "preference_counts = menstruation_yes['product_use_preference'].value_counts()\n",
    "preference_counts"
   ]
  },
  {
   "cell_type": "code",
   "execution_count": null,
   "id": "cd5b1d0c-74d2-4c5a-ae7e-000424481be9",
   "metadata": {},
   "outputs": [],
   "source": [
    "# colors\n",
    "colors = ['lightskyblue', 'salmon', 'orange', 'green']\n",
    "\n",
    "#chart\n",
    "plt.pie(preference_counts, labels= preference_counts.index, autopct='%1.1f%%', startangle=90, colors=colors)\n",
    "\n",
    "plt.axis('equal')\n",
    "\n",
    "#title\n",
    "plt.title('Preferred Product Use')\n",
    "\n",
    "# Add a legend outside the pie chart\n",
    "plt.legend(preference_counts.index, loc=\"center left\", bbox_to_anchor=(1, 0.5))\n",
    "\n",
    "# Show the pie chart\n",
    "plt.show()\n",
    "\n"
   ]
  },
  {
   "cell_type": "markdown",
   "id": "9d19a8b4-b08e-43f1-86d7-10f71ee0b679",
   "metadata": {
    "jp-MarkdownHeadingCollapsed": true
   },
   "source": [
    "## Reason Product Use"
   ]
  },
  {
   "cell_type": "code",
   "execution_count": null,
   "id": "56a3a092-917a-48d9-9353-562bc767fddd",
   "metadata": {},
   "outputs": [],
   "source": [
    "menstruation_yes['school_usage_reasoning'].unique()\n",
    "\t"
   ]
  },
  {
   "cell_type": "code",
   "execution_count": null,
   "id": "de587857-5570-4ce0-8ad0-119fac07aed2",
   "metadata": {},
   "outputs": [],
   "source": [
    "# change ones that are similar to needed one to Non Available\n",
    "replacement= {\n",
    "    'I didn’t have the product(s) that I needed': 'Non Available',\n",
    "    'I took the product(s) for someone else': 'For Other',\n",
    "    'I/family didn’t have enough money to buy sanitary products': 'Financial Reason',\n",
    "    \"i didn't need to\": 'N/A',\n",
    "    'ALL: mixture of all of them ': 'All Reasons',\n",
    "    'Forgot sanitary products at home': 'Non Available',\n",
    "    'I didn’t have extra personal ones': 'Non Available'\n",
    "}\n",
    "\n",
    "# Replace\n",
    "menstruation_yes['school_usage_reasoning']=menstruation_yes['school_usage_reasoning'].replace(replacement, inplace=False)\n",
    "# Drop rows with missing values in 'school_usage_reasoning'\n",
    "menstruation_yes = menstruation_yes[menstruation_yes['school_usage_reasoning'] != 'N/A']\n",
    "\n",
    "menstruation_yes['school_usage_reasoning'].unique()"
   ]
  },
  {
   "cell_type": "code",
   "execution_count": null,
   "id": "05f667f3-e3fc-45d1-bd7b-3a0d05996006",
   "metadata": {},
   "outputs": [],
   "source": [
    "preference_counts = menstruation_yes['school_usage_reasoning'].value_counts()\n",
    "\n",
    "preference_counts"
   ]
  },
  {
   "cell_type": "code",
   "execution_count": null,
   "id": "1b5d6bc7-c696-4122-adfb-a91a74ec9127",
   "metadata": {},
   "outputs": [],
   "source": [
    "# Percentage calculation\n",
    "percentages = (preference_counts / preference_counts.sum()) * 100\n",
    "\n",
    "# Sorting in descending order\n",
    "percentages = percentages.sort_values(ascending=False)\n",
    "\n",
    "# Plotting the bar chart\n",
    "graph = plt.bar(percentages.index, percentages)\n",
    "\n",
    "# Add percentage labels on top of the bars using your loop style\n",
    "for i, p in enumerate(graph.patches[:min(len(graph.patches), len(percentages))]):\n",
    "    width = p.get_width()\n",
    "    height = p.get_height()\n",
    "    x, y = p.get_xy()\n",
    "    plt.text(x + width / 2, y + height * 1.01, f'{percentages.iloc[i]:.1f}%', ha='center', weight='bold')\n",
    "\n",
    "# Adding labels and title\n",
    "plt.xlabel(' ')\n",
    "plt.ylabel('Percentage')\n",
    "plt.title('Reason for Menstruation Products')\n",
    "\n",
    "# Display the plot\n",
    "plt.show()\n",
    "\n"
   ]
  },
  {
   "cell_type": "code",
   "execution_count": null,
   "id": "b94bfe90-d302-4288-b691-3551ec2b9ba6",
   "metadata": {},
   "outputs": [],
   "source": [
    "percentages"
   ]
  },
  {
   "cell_type": "markdown",
   "id": "b5ff0680-1b83-47c6-8160-4f2543f58a9c",
   "metadata": {},
   "source": [
    "## Reasons of Product Usage Analysis"
   ]
  },
  {
   "cell_type": "raw",
   "id": "2a0b24f7-7ba6-4d0e-95b9-d768fb2dbab1",
   "metadata": {},
   "source": [
    "This initiative will not be a great finanacial burden for the school as majority of the students will either use Persoanl or School Products (48%) , or only if it is necesssary (39%). This also reveals that the initiative can be mainted long term. \n",
    "One of the biggest reason for student to use the free products was that there were Non Available Personally or For Other (94%). Again revealing the importance of this initiative as free products as shown earlier decrease a students worry and increase comfortability in attending classes.\n",
    "final_path2 = r'C:\\Users\\Hamza\\OneDrive - student.ccm.edu\\Hamza_Courses\\3rd_semsester_ccm\\Data_science_programming\\menstration_analysis\\clean_menst2.csv'\n",
    "products = pd.read_csv(final_path2)\n"
   ]
  },
  {
   "cell_type": "markdown",
   "id": "dbeb9628-75c9-442e-b518-c5d4cdfd11bf",
   "metadata": {},
   "source": [
    "# More Bar"
   ]
  },
  {
   "cell_type": "code",
   "execution_count": 4,
   "id": "c8d68233-acdf-460d-9f65-520a742fe270",
   "metadata": {},
   "outputs": [],
   "source": [
    "final_path2 = r'C:\\Users\\Hamza\\OneDrive - student.ccm.edu\\Hamza_Courses\\3rd_semsester_ccm\\Data_science_programming\\menstration_analysis\\clean_menst2.csv'\n",
    "products = pd.read_csv(final_path2)\n"
   ]
  },
  {
   "cell_type": "code",
   "execution_count": 5,
   "id": "0752eb01-14bf-42df-b5e7-87f30b15ef5d",
   "metadata": {},
   "outputs": [
    {
     "data": {
      "text/html": [
       "<div>\n",
       "<style scoped>\n",
       "    .dataframe tbody tr th:only-of-type {\n",
       "        vertical-align: middle;\n",
       "    }\n",
       "\n",
       "    .dataframe tbody tr th {\n",
       "        vertical-align: top;\n",
       "    }\n",
       "\n",
       "    .dataframe thead th {\n",
       "        text-align: right;\n",
       "    }\n",
       "</style>\n",
       "<table border=\"1\" class=\"dataframe\">\n",
       "  <thead>\n",
       "    <tr style=\"text-align: right;\">\n",
       "      <th></th>\n",
       "      <th>Gender</th>\n",
       "      <th>Age</th>\n",
       "      <th>attendance_status</th>\n",
       "      <th>menstruation_applicable</th>\n",
       "      <th>Did you know about the free menstrual products in the Female/Gender Neutral bathrooms prior to taking this poll? \\n (Located in: SCC, across from Records and Registration, Cohen Cafe, AMEC 101, and in Gender Neutral Bathrooms near LRC 121, and Cohen Cafe)</th>\n",
       "      <th>free_products_used</th>\n",
       "      <th>product_use_preference</th>\n",
       "      <th>product_usage_frequency</th>\n",
       "      <th>school_usage_reasoning</th>\n",
       "      <th>missed_class_impact</th>\n",
       "      <th>attendance_increase_impact</th>\n",
       "      <th>free_product_impact</th>\n",
       "      <th>support_scale</th>\n",
       "      <th>no_support_reason</th>\n",
       "    </tr>\n",
       "  </thead>\n",
       "  <tbody>\n",
       "    <tr>\n",
       "      <th>0</th>\n",
       "      <td>Female</td>\n",
       "      <td>18-24</td>\n",
       "      <td>Full Time</td>\n",
       "      <td>No</td>\n",
       "      <td>NaN</td>\n",
       "      <td>NaN</td>\n",
       "      <td>NaN</td>\n",
       "      <td>NaN</td>\n",
       "      <td>NaN</td>\n",
       "      <td>NaN</td>\n",
       "      <td>NaN</td>\n",
       "      <td>NaN</td>\n",
       "      <td>Highly Supportive</td>\n",
       "      <td>Budget constraints (Financial Burden on School)</td>\n",
       "    </tr>\n",
       "    <tr>\n",
       "      <th>1</th>\n",
       "      <td>Male</td>\n",
       "      <td>18-24</td>\n",
       "      <td>Part Time</td>\n",
       "      <td>No</td>\n",
       "      <td>NaN</td>\n",
       "      <td>NaN</td>\n",
       "      <td>NaN</td>\n",
       "      <td>NaN</td>\n",
       "      <td>NaN</td>\n",
       "      <td>NaN</td>\n",
       "      <td>NaN</td>\n",
       "      <td>NaN</td>\n",
       "      <td>Highly Supportive</td>\n",
       "      <td>NaN</td>\n",
       "    </tr>\n",
       "    <tr>\n",
       "      <th>2</th>\n",
       "      <td>Male</td>\n",
       "      <td>18-24</td>\n",
       "      <td>Part Time</td>\n",
       "      <td>No</td>\n",
       "      <td>NaN</td>\n",
       "      <td>NaN</td>\n",
       "      <td>NaN</td>\n",
       "      <td>NaN</td>\n",
       "      <td>NaN</td>\n",
       "      <td>NaN</td>\n",
       "      <td>NaN</td>\n",
       "      <td>NaN</td>\n",
       "      <td>Highly Supportive</td>\n",
       "      <td>NaN</td>\n",
       "    </tr>\n",
       "    <tr>\n",
       "      <th>3</th>\n",
       "      <td>Non-Binary</td>\n",
       "      <td>18-24</td>\n",
       "      <td>Full Time</td>\n",
       "      <td>Yes</td>\n",
       "      <td>Yes</td>\n",
       "      <td>No</td>\n",
       "      <td>Both</td>\n",
       "      <td>Rarely</td>\n",
       "      <td>I didn’t have the product(s) that I needed</td>\n",
       "      <td>No</td>\n",
       "      <td>Somewhat</td>\n",
       "      <td>More able to continue with day to day activiti...</td>\n",
       "      <td>Somwhat Supportive</td>\n",
       "      <td>NaN</td>\n",
       "    </tr>\n",
       "    <tr>\n",
       "      <th>4</th>\n",
       "      <td>Female</td>\n",
       "      <td>25-34</td>\n",
       "      <td>Full Time</td>\n",
       "      <td>Yes</td>\n",
       "      <td>No</td>\n",
       "      <td>No</td>\n",
       "      <td>Both</td>\n",
       "      <td>Rarely</td>\n",
       "      <td>I didn’t have the product(s) that I needed</td>\n",
       "      <td>No</td>\n",
       "      <td>To a Great Extent</td>\n",
       "      <td>Less worried about having my period;More able ...</td>\n",
       "      <td>Highly Supportive</td>\n",
       "      <td>i support</td>\n",
       "    </tr>\n",
       "    <tr>\n",
       "      <th>...</th>\n",
       "      <td>...</td>\n",
       "      <td>...</td>\n",
       "      <td>...</td>\n",
       "      <td>...</td>\n",
       "      <td>...</td>\n",
       "      <td>...</td>\n",
       "      <td>...</td>\n",
       "      <td>...</td>\n",
       "      <td>...</td>\n",
       "      <td>...</td>\n",
       "      <td>...</td>\n",
       "      <td>...</td>\n",
       "      <td>...</td>\n",
       "      <td>...</td>\n",
       "    </tr>\n",
       "    <tr>\n",
       "      <th>207</th>\n",
       "      <td>Non-Binary</td>\n",
       "      <td>25-34</td>\n",
       "      <td>Full Time</td>\n",
       "      <td>Yes</td>\n",
       "      <td>Yes</td>\n",
       "      <td>Yes</td>\n",
       "      <td>Only School Products if Necessary</td>\n",
       "      <td>Rarely</td>\n",
       "      <td>I didn’t have the product(s) that I needed</td>\n",
       "      <td>I know someone who has</td>\n",
       "      <td>Somewhat</td>\n",
       "      <td>Less worried about having my period;More able ...</td>\n",
       "      <td>Highly Supportive</td>\n",
       "      <td>NaN</td>\n",
       "    </tr>\n",
       "    <tr>\n",
       "      <th>208</th>\n",
       "      <td>Female</td>\n",
       "      <td>18-24</td>\n",
       "      <td>Part Time</td>\n",
       "      <td>Yes</td>\n",
       "      <td>Yes</td>\n",
       "      <td>No</td>\n",
       "      <td>Both</td>\n",
       "      <td>Never</td>\n",
       "      <td>I didn’t have the product(s) that I needed</td>\n",
       "      <td>No</td>\n",
       "      <td>To a Great Extent</td>\n",
       "      <td>Less worried about having my period;More able ...</td>\n",
       "      <td>Highly Supportive</td>\n",
       "      <td>NaN</td>\n",
       "    </tr>\n",
       "    <tr>\n",
       "      <th>209</th>\n",
       "      <td>Female</td>\n",
       "      <td>18-24</td>\n",
       "      <td>Full Time</td>\n",
       "      <td>Yes</td>\n",
       "      <td>Yes</td>\n",
       "      <td>Yes</td>\n",
       "      <td>Only School Products if Necessary</td>\n",
       "      <td>Rarely</td>\n",
       "      <td>I didn’t have the product(s) that I needed</td>\n",
       "      <td>Yes</td>\n",
       "      <td>To a Great Extent</td>\n",
       "      <td>Less worried about having my period;Improved m...</td>\n",
       "      <td>Highly Supportive</td>\n",
       "      <td>NaN</td>\n",
       "    </tr>\n",
       "    <tr>\n",
       "      <th>210</th>\n",
       "      <td>Female</td>\n",
       "      <td>15-17</td>\n",
       "      <td>Full Time</td>\n",
       "      <td>Yes</td>\n",
       "      <td>Yes</td>\n",
       "      <td>Yes</td>\n",
       "      <td>Only School Products if Necessary</td>\n",
       "      <td>Rarely</td>\n",
       "      <td>I didn’t have the product(s) that I needed</td>\n",
       "      <td>I know someone who has</td>\n",
       "      <td>To a Great Extent</td>\n",
       "      <td>Less worried about having my period;More able ...</td>\n",
       "      <td>Highly Supportive</td>\n",
       "      <td>NaN</td>\n",
       "    </tr>\n",
       "    <tr>\n",
       "      <th>211</th>\n",
       "      <td>Male</td>\n",
       "      <td>18-24</td>\n",
       "      <td>Full Time</td>\n",
       "      <td>No</td>\n",
       "      <td>NaN</td>\n",
       "      <td>NaN</td>\n",
       "      <td>NaN</td>\n",
       "      <td>NaN</td>\n",
       "      <td>NaN</td>\n",
       "      <td>NaN</td>\n",
       "      <td>NaN</td>\n",
       "      <td>NaN</td>\n",
       "      <td>Highly Supportive</td>\n",
       "      <td>NaN</td>\n",
       "    </tr>\n",
       "  </tbody>\n",
       "</table>\n",
       "<p>212 rows × 14 columns</p>\n",
       "</div>"
      ],
      "text/plain": [
       "         Gender    Age attendance_status menstruation_applicable  \\\n",
       "0        Female  18-24         Full Time                      No   \n",
       "1          Male  18-24         Part Time                      No   \n",
       "2          Male  18-24         Part Time                      No   \n",
       "3    Non-Binary  18-24         Full Time                     Yes   \n",
       "4        Female  25-34         Full Time                     Yes   \n",
       "..          ...    ...               ...                     ...   \n",
       "207  Non-Binary  25-34         Full Time                     Yes   \n",
       "208      Female  18-24         Part Time                     Yes   \n",
       "209      Female  18-24         Full Time                     Yes   \n",
       "210      Female  15-17         Full Time                     Yes   \n",
       "211        Male  18-24         Full Time                      No   \n",
       "\n",
       "    Did you know about the free menstrual products in the Female/Gender Neutral bathrooms prior to taking this poll? \\n (Located in: SCC, across from Records and Registration, Cohen Cafe, AMEC 101, and in Gender Neutral Bathrooms near LRC 121, and Cohen Cafe)  \\\n",
       "0                                                  NaN                                                                                                                                                                                                                \n",
       "1                                                  NaN                                                                                                                                                                                                                \n",
       "2                                                  NaN                                                                                                                                                                                                                \n",
       "3                                                  Yes                                                                                                                                                                                                                \n",
       "4                                                   No                                                                                                                                                                                                                \n",
       "..                                                 ...                                                                                                                                                                                                                \n",
       "207                                                Yes                                                                                                                                                                                                                \n",
       "208                                                Yes                                                                                                                                                                                                                \n",
       "209                                                Yes                                                                                                                                                                                                                \n",
       "210                                                Yes                                                                                                                                                                                                                \n",
       "211                                                NaN                                                                                                                                                                                                                \n",
       "\n",
       "    free_products_used             product_use_preference  \\\n",
       "0                  NaN                                NaN   \n",
       "1                  NaN                                NaN   \n",
       "2                  NaN                                NaN   \n",
       "3                   No                               Both   \n",
       "4                   No                               Both   \n",
       "..                 ...                                ...   \n",
       "207                Yes  Only School Products if Necessary   \n",
       "208                 No                               Both   \n",
       "209                Yes  Only School Products if Necessary   \n",
       "210                Yes  Only School Products if Necessary   \n",
       "211                NaN                                NaN   \n",
       "\n",
       "    product_usage_frequency                      school_usage_reasoning  \\\n",
       "0                       NaN                                         NaN   \n",
       "1                       NaN                                         NaN   \n",
       "2                       NaN                                         NaN   \n",
       "3                    Rarely  I didn’t have the product(s) that I needed   \n",
       "4                    Rarely  I didn’t have the product(s) that I needed   \n",
       "..                      ...                                         ...   \n",
       "207                  Rarely  I didn’t have the product(s) that I needed   \n",
       "208                   Never  I didn’t have the product(s) that I needed   \n",
       "209                  Rarely  I didn’t have the product(s) that I needed   \n",
       "210                  Rarely  I didn’t have the product(s) that I needed   \n",
       "211                     NaN                                         NaN   \n",
       "\n",
       "        missed_class_impact attendance_increase_impact  \\\n",
       "0                       NaN                        NaN   \n",
       "1                       NaN                        NaN   \n",
       "2                       NaN                        NaN   \n",
       "3                        No                   Somewhat   \n",
       "4                        No          To a Great Extent   \n",
       "..                      ...                        ...   \n",
       "207  I know someone who has                   Somewhat   \n",
       "208                      No          To a Great Extent   \n",
       "209                     Yes          To a Great Extent   \n",
       "210  I know someone who has          To a Great Extent   \n",
       "211                     NaN                        NaN   \n",
       "\n",
       "                                   free_product_impact       support_scale  \\\n",
       "0                                                  NaN   Highly Supportive   \n",
       "1                                                  NaN   Highly Supportive   \n",
       "2                                                  NaN   Highly Supportive   \n",
       "3    More able to continue with day to day activiti...  Somwhat Supportive   \n",
       "4    Less worried about having my period;More able ...   Highly Supportive   \n",
       "..                                                 ...                 ...   \n",
       "207  Less worried about having my period;More able ...   Highly Supportive   \n",
       "208  Less worried about having my period;More able ...   Highly Supportive   \n",
       "209  Less worried about having my period;Improved m...   Highly Supportive   \n",
       "210  Less worried about having my period;More able ...   Highly Supportive   \n",
       "211                                                NaN   Highly Supportive   \n",
       "\n",
       "                                   no_support_reason  \n",
       "0    Budget constraints (Financial Burden on School)  \n",
       "1                                                NaN  \n",
       "2                                                NaN  \n",
       "3                                                NaN  \n",
       "4                                          i support  \n",
       "..                                               ...  \n",
       "207                                              NaN  \n",
       "208                                              NaN  \n",
       "209                                              NaN  \n",
       "210                                              NaN  \n",
       "211                                              NaN  \n",
       "\n",
       "[212 rows x 14 columns]"
      ]
     },
     "execution_count": 5,
     "metadata": {},
     "output_type": "execute_result"
    }
   ],
   "source": [
    "products"
   ]
  },
  {
   "cell_type": "code",
   "execution_count": 6,
   "id": "755ab69d-1974-4be0-9bf8-9bb069297b25",
   "metadata": {},
   "outputs": [],
   "source": [
    "# 'products' is your DataFrame\n",
    "products.rename(columns={'Did you know about the free menstrual products in the Female/Gender Neutral bathrooms prior to taking this poll? \\n (Located in: SCC, across from Records and Registration, Cohen Cafe, AMEC 101, and in Gender Neutral Bathrooms near LRC 121, and Cohen Cafe)': 'know of products'}, inplace=True)"
   ]
  },
  {
   "cell_type": "code",
   "execution_count": 7,
   "id": "b767b5e4-cf8c-45b6-b270-30acdcdb943a",
   "metadata": {},
   "outputs": [
    {
     "data": {
      "text/plain": [
       "Index(['Gender', 'Age', 'attendance_status', 'menstruation_applicable',\n",
       "       'know of products', 'free_products_used', 'product_use_preference',\n",
       "       'product_usage_frequency', 'school_usage_reasoning',\n",
       "       'missed_class_impact', 'attendance_increase_impact',\n",
       "       'free_product_impact', 'support_scale', 'no_support_reason'],\n",
       "      dtype='object')"
      ]
     },
     "execution_count": 7,
     "metadata": {},
     "output_type": "execute_result"
    }
   ],
   "source": [
    "products.columns"
   ]
  },
  {
   "cell_type": "code",
   "execution_count": 8,
   "id": "1cd8a83e-5312-4647-bc77-4650f74addd3",
   "metadata": {},
   "outputs": [
    {
     "data": {
      "image/png": "[encoded data removed]",
      "text/plain": [
       "<Figure size 640x480 with 1 Axes>"
      ]
     },
     "metadata": {},
     "output_type": "display_data"
    }
   ],
   "source": [
    "# Counts\n",
    "knows_counts = products['know of products'].value_counts()\n",
    "\n",
    "# Percentages\n",
    "knows_percentage = (knows_counts / knows_counts.sum()) * 100\n",
    "\n",
    "# Descending Order\n",
    "knows_percentage = knows_percentage.sort_values(ascending=False)\n",
    "\n",
    "# Plot\n",
    "fig, ax = plt.subplots()\n",
    "bars = plt.bar(knows_percentage.index, knows_percentage)\n",
    "\n",
    "# Display percentage on top of each bar\n",
    "for bar in bars:\n",
    "    yval = bar.get_height()\n",
    "    plt.text(bar.get_x() + bar.get_width()/2, yval + 0.5, round(yval, 2), ha='center', va='bottom')\n",
    "\n",
    "plt.xlabel('Students')\n",
    "plt.ylabel('Percentage')\n",
    "plt.title('Students who know of Products Avalailabilty')\n",
    "plt.show()"
   ]
  },
  {
   "cell_type": "code",
   "execution_count": 9,
   "id": "fd641ca4-ab82-4243-80a5-d8321a2d1539",
   "metadata": {},
   "outputs": [
    {
     "data": {
      "text/plain": [
       "know of products\n",
       "Yes    98\n",
       "No     41\n",
       "Name: count, dtype: int64"
      ]
     },
     "execution_count": 9,
     "metadata": {},
     "output_type": "execute_result"
    }
   ],
   "source": [
    "knows_counts "
   ]
  },
  {
   "cell_type": "code",
   "execution_count": 12,
   "id": "9599a695-843c-47fd-a68c-a0f91396c79d",
   "metadata": {},
   "outputs": [
    {
     "data": {
      "image/png": "[encoded data removed]",
      "text/plain": [
       "<Figure size 640x480 with 1 Axes>"
      ]
     },
     "metadata": {},
     "output_type": "display_data"
    }
   ],
   "source": [
    "# Counts\n",
    "used_counts = products['free_products_used'].value_counts()\n",
    "\n",
    "# Percentages\n",
    "used_percentage = (used_counts /used_counts.sum()) * 100\n",
    "\n",
    "# Descending Order\n",
    "used_percentage  = used_percentage.sort_values(ascending=False)\n",
    "\n",
    "# Plot\n",
    "fig, ax = plt.subplots()\n",
    "bars = plt.bar(used_percentage.index, used_percentage)\n",
    "\n",
    "# Display percentage on top of each bar\n",
    "for bar in bars:\n",
    "    yval = bar.get_height()\n",
    "    plt.text(bar.get_x() + bar.get_width()/2, yval + 0.5, round(yval, 2), ha='center', va='bottom')\n",
    "\n",
    "plt.xlabel('Students')\n",
    "plt.ylabel('Percentage')\n",
    "plt.title('Products Used Distribution')\n",
    "plt.show()"
   ]
  },
  {
   "cell_type": "code",
   "execution_count": 11,
   "id": "c3431a84-4807-4e0d-90f1-c75fe39ea425",
   "metadata": {},
   "outputs": [
    {
     "data": {
      "text/plain": [
       "free_products_used\n",
       "No     84\n",
       "Yes    55\n",
       "Name: count, dtype: int64"
      ]
     },
     "execution_count": 11,
     "metadata": {},
     "output_type": "execute_result"
    }
   ],
   "source": [
    "used_counts"
   ]
  },
  {
   "cell_type": "code",
   "execution_count": null,
   "id": "e6ed3467-8422-4d1c-b3a1-771e13b9dcc2",
   "metadata": {},
   "outputs": [],
   "source": []
  },
  {
   "cell_type": "code",
   "execution_count": null,
   "id": "424c2c53-e269-45d6-badc-d0b40ebbab7c",
   "metadata": {},
   "outputs": [],
   "source": []
  },
  {
   "cell_type": "code",
   "execution_count": null,
   "id": "0901ef23-7e7a-4c53-8c4c-2edefcc7cc31",
   "metadata": {},
   "outputs": [],
   "source": []
  },
  {
   "cell_type": "code",
   "execution_count": null,
   "id": "dfd900c1-b238-43ae-917e-c4860eb2e1cc",
   "metadata": {},
   "outputs": [],
   "source": []
  },
  {
   "cell_type": "code",
   "execution_count": null,
   "id": "8fef3926-a2da-41aa-91d4-9730762a455c",
   "metadata": {},
   "outputs": [],
   "source": []
  }
 ],
 "metadata": {
  "kernelspec": {
   "display_name": "Python 3 (ipykernel)",
   "language": "python",
   "name": "python3"
  },
  "language_info": {
   "codemirror_mode": {
    "name": "ipython",
    "version": 3
   },
   "file_extension": ".py",
   "mimetype": "text/x-python",
   "name": "python",
   "nbconvert_exporter": "python",
   "pygments_lexer": "ipython3",
   "version": "3.11.5"
  }
 },
 "nbformat": 4,
 "nbformat_minor": 5
}
